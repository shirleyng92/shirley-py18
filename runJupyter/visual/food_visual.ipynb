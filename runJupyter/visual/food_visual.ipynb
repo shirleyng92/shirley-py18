{
  "cells": [
    {
      "metadata": {
        "_cell_guid": "9cf02066-b190-3800-6fdb-cfaada33e01c",
        "_uuid": "87766dbb075953f8eee8ba024c56c0a59082dc4e"
      },
      "cell_type": "markdown",
      "source": "# Open Food Facts Visualization"
    },
    {
      "metadata": {
        "_cell_guid": "b1ae7f65-852d-b8da-0d57-0561d2ee1279",
        "_uuid": "fc9e8afd5e13d60197cc03a3ce653c7970d2ecfd",
        "trusted": false
      },
      "cell_type": "code",
      "source": "import pandas as pd\nimport numpy as np",
      "execution_count": null,
      "outputs": []
    },
    {
      "metadata": {
        "_cell_guid": "f1eec1c3-c6e4-36b0-fe6b-03a8fcc33d7d",
        "_uuid": "5bacd967d6e95d0be9aff62281feeb75859252f5",
        "trusted": false
      },
      "cell_type": "code",
      "source": "from matplotlib import pyplot as plt\n%matplotlib inline\nimport seaborn",
      "execution_count": null,
      "outputs": []
    },
    {
      "metadata": {
        "_cell_guid": "dee9b5e4-8af1-4534-e4ed-91b4faaa7937",
        "_uuid": "0ada6b35eda906fba4a8ae60288679de7e5afa90",
        "trusted": false
      },
      "cell_type": "code",
      "source": "food = pd.read_csv(\"../input/FoodFacts.csv\")",
      "execution_count": null,
      "outputs": []
    },
    {
      "metadata": {
        "_cell_guid": "73b40cbf-d7ed-498a-808e-d4ed64547d3d",
        "_uuid": "e337cd4527b25555ffce5ce8769978a27dca21c9"
      },
      "cell_type": "markdown",
      "source": "There are a lot of NaNs in a dataset:"
    },
    {
      "metadata": {
        "_cell_guid": "38069299-2181-0fc5-fced-1761ea6125f1",
        "_uuid": "b125a62cf145fc6cde4cd63474301fd9bfa15ca9",
        "trusted": false
      },
      "cell_type": "code",
      "source": "plt.figure(figsize=(5, 20))\nfood.isnull().mean(axis=0).plot.barh()\nplt.title(\"Proportion of NaNs in each column\")",
      "execution_count": null,
      "outputs": []
    },
    {
      "metadata": {
        "_cell_guid": "6ae1d573-8e5b-f04c-6fca-ad257ce7020b",
        "_uuid": "763b7f1190d08155dcdcb23c6dabe9540d4df8bd"
      },
      "cell_type": "markdown",
      "source": "For the majority of products we don't know nutrition columns (with \"100g\" in the columns name). "
    },
    {
      "metadata": {
        "_cell_guid": "33a69f06-4d42-ad78-9687-63e7dd0a59b9",
        "_uuid": "86d47938f1cd258e50d0e022dacf6ccce02b7b86"
      },
      "cell_type": "markdown",
      "source": "Function to select rows without NaNs:"
    },
    {
      "metadata": {
        "_cell_guid": "09d0aa53-f29c-0423-79ad-b648f410faaa",
        "_uuid": "5e367ae458fe9adab3465a106f59894710327ebf",
        "trusted": false
      },
      "cell_type": "code",
      "source": "def no_null_objects(data, columns=None):\n    \"\"\"\n    selects rows with no NaNs\n    \"\"\"\n    if columns is None:\n        columns = data.columns\n    return data[np.logical_not(np.any(data[columns].isnull().values, axis=1))]",
      "execution_count": null,
      "outputs": []
    },
    {
      "metadata": {
        "_cell_guid": "9d347de6-d886-d6fe-8366-be36c7fbb4ba",
        "_uuid": "02769f7be2f3eb2eba52648eb9e667cdc90a4f24"
      },
      "cell_type": "markdown",
      "source": "There are a lot of text columns representing comma separated list of smth. We need a function to split rows with multiple values to several rows ([source](http://stackoverflow.com/questions/12680754/split-pandas-dataframe-string-entry-to-separate-rows))"
    },
    {
      "metadata": {
        "_cell_guid": "3509392e-7c88-1c65-4698-4607f5719a24",
        "_uuid": "a865c1c75786adcd185ec12bf71dd6d92823fb06",
        "trusted": false
      },
      "cell_type": "code",
      "source": "def splitDataFrameList(df, target_column, separator):\n    ''' df = dataframe to split,\n    target_column = the column containing the values to split\n    separator = the symbol used to perform the split\n\n    returns: a dataframe with each entry for the target column separated, with each element moved into a new row. \n    The values in the other columns are duplicated across the newly divided rows.\n    '''\n    def splitListToRows(row, row_accumulator, target_column, separator):\n        split_row = row[target_column].split(separator)\n        for s in split_row:\n            new_row = row.to_dict()\n            new_row[target_column] = s\n            row_accumulator.append(new_row)\n    new_rows = []\n    df.apply(splitListToRows,axis=1,args = (new_rows,target_column,separator))\n    new_df = pd.DataFrame(new_rows)\n    return new_df",
      "execution_count": null,
      "outputs": []
    },
    {
      "metadata": {
        "_cell_guid": "23afe3f6-c4b8-95d2-e5d1-131b6af4a37c",
        "_uuid": "575b5308348088b2585ecfd5c451aae47f7e7c18"
      },
      "cell_type": "markdown",
      "source": "### Which countries are represented in a dataset?"
    },
    {
      "metadata": {
        "_cell_guid": "0b43c51c-ab61-56af-1f39-83c7db6e46eb",
        "_uuid": "5bfb04e9298d9ee5d5e60a66b5213e63f0be9b11",
        "trusted": false
      },
      "cell_type": "code",
      "source": "food_countries = splitDataFrameList(no_null_objects(food, [\"countries_en\"]), \"countries_en\", \",\")\ncountries = food_countries[\"countries_en\"].value_counts()",
      "execution_count": null,
      "outputs": []
    },
    {
      "metadata": {
        "_cell_guid": "195e934b-b972-604f-417c-61390999586e",
        "_uuid": "271b73d8635da05640170ac999e3b373f7b0fc1c",
        "trusted": false
      },
      "cell_type": "code",
      "source": "countries[:20][::-1].plot.barh()",
      "execution_count": null,
      "outputs": []
    },
    {
      "metadata": {
        "_cell_guid": "5ea3d235-0c9e-b841-a35f-d97e0a1d35c6",
        "_uuid": "96abc2624f6383178b088c79a8e348758969f211"
      },
      "cell_type": "markdown",
      "source": "There are too small number of products for other countries:"
    },
    {
      "metadata": {
        "_cell_guid": "5902085f-397f-9d8c-ca97-6dab37b6d570",
        "_uuid": "9f5448d3b2a89603206172b76dd318f46e7c2295",
        "trusted": false
      },
      "cell_type": "code",
      "source": "print(countries[20:].index)\nprint(\"Max count:\", countries[20:].max())",
      "execution_count": null,
      "outputs": []
    },
    {
      "metadata": {
        "_cell_guid": "1bb8433b-c7ca-af78-90a8-fde1b9f6204c",
        "_uuid": "04db41637d4d983e439f668ea89d7fc60441702c"
      },
      "cell_type": "markdown",
      "source": "### What are exports and imports between top-20 countries?"
    },
    {
      "metadata": {
        "_cell_guid": "57615b38-4f6d-20e4-d3ff-95d7ee5fce86",
        "_uuid": "e3bdf08bdd02f85848f64fc0204e69c073abb76c",
        "trusted": false
      },
      "cell_type": "code",
      "source": "countries_matrix = pd.DataFrame(np.zeros((20, 20)), countries[:20].index, countries[:20].index)\nidxs = ~food.origins.isnull() & ~food.countries_en.isnull()\nfor from_, to_ in zip(food[\"origins\"][idxs], food[\"countries_en\"][idxs]):\n    from_list = filter(lambda x: x in countries[:20].index, from_.split(\",\"))\n    to_list = filter(lambda x: x in countries[:20].index, to_.split(\",\"))\n    for from_c in from_list:\n        for to_c in to_list:\n            countries_matrix[from_c][to_c] += 1",
      "execution_count": null,
      "outputs": []
    },
    {
      "metadata": {
        "_cell_guid": "77909c27-707f-76ee-e413-55497da04e13",
        "_uuid": "74da8c9cdfc66f2f0fc44de03fbda989f4e70d6b",
        "trusted": false
      },
      "cell_type": "code",
      "source": "# Replace non-ascii country name\ncountries_matrix.columns = countries_matrix.columns[:-2].values.tolist() + [\"Reunion\"] + [countries_matrix.columns[-1]]\ncountries_matrix.index = countries_matrix.columns[:-2].values.tolist() + [\"Reunion\"] + [countries_matrix.columns[-1]]",
      "execution_count": null,
      "outputs": []
    },
    {
      "metadata": {
        "_cell_guid": "5b928277-1e8e-d29a-6557-ededecffc4e7",
        "_uuid": "efab75c89055980a0dbf76a307b9a06f39db21e7",
        "trusted": false
      },
      "cell_type": "code",
      "source": "seaborn.heatmap(countries_matrix)",
      "execution_count": null,
      "outputs": []
    },
    {
      "metadata": {
        "_cell_guid": "dcac8457-1bbd-eca7-8158-969334969775",
        "_uuid": "bcc27ce6c6dcaa896160744e11b0dd48eb081a83"
      },
      "cell_type": "markdown",
      "source": "Without dominating France:"
    },
    {
      "metadata": {
        "_cell_guid": "adcfee03-0dec-ae45-d0ed-3e97484671c9",
        "_uuid": "1ce2a53d6c7719af77fd7716fc760e9af0268dc2",
        "trusted": false
      },
      "cell_type": "code",
      "source": "seaborn.heatmap(countries_matrix.drop([\"France\"], axis=0)\n                .drop([\"France\"], axis=1))",
      "execution_count": null,
      "outputs": []
    },
    {
      "metadata": {
        "_cell_guid": "c4a85df1-de4f-b5ff-421c-8c15dff20c24",
        "_uuid": "9ca0ba9111c5fe111738790d592d7470885a1d01"
      },
      "cell_type": "markdown",
      "source": "Australia (and the UK) are separated from the rest countries. Products come from Australia to China and the Unites States (nearly geographically), from Spain to China."
    },
    {
      "metadata": {
        "_cell_guid": "3873bb90-2e55-641d-1568-583c0f096e64",
        "_uuid": "c67ca6693435d46d6509363d59567a3db8e066f7"
      },
      "cell_type": "markdown",
      "source": "### Do countries differ in the proportion of products containig palm oil?"
    },
    {
      "metadata": {
        "_cell_guid": "d874a255-8e1b-2231-f4ba-c4a65e44f424",
        "_uuid": "183ed9c5089303fc31eaf936e722a967b772acb0",
        "trusted": false
      },
      "cell_type": "code",
      "source": "df = no_null_objects(food_countries[[\"countries_en\", \"ingredients_from_palm_oil_n\"]])\ndf[df[\"countries_en\"].isin(countries[:20].index)].groupby(\"countries_en\").mean().plot.barh()",
      "execution_count": null,
      "outputs": []
    },
    {
      "metadata": {
        "_cell_guid": "7d6db7f4-c8d8-3673-d4f1-7045d9b6fc1a",
        "_uuid": "878090439f98d6077ede54d1369e0a1f3bbbf084"
      },
      "cell_type": "markdown",
      "source": "Accoridnt to the data, in the majority of European countries the proportion is higher than in the US, the UK, China, Brazil.\n\nProbably it is because of NaNs?"
    },
    {
      "metadata": {
        "_cell_guid": "800e896d-ad62-0532-a812-e49f8e925090",
        "_uuid": "4166f6762c6002b5c640d10f253ff8d4009aeebf",
        "trusted": false
      },
      "cell_type": "code",
      "source": "df = food_countries[[\"countries_en\", \"ingredients_from_palm_oil_n\"]]\ndf[\"nan_palm_oil\"] = ~ df[\"ingredients_from_palm_oil_n\"].isnull()\ndf[df[\"countries_en\"].isin(countries[:20].index)].groupby(\"countries_en\").mean().plot.barh()",
      "execution_count": null,
      "outputs": []
    },
    {
      "metadata": {
        "_cell_guid": "b23208d2-e78e-6e88-bd62-05e160a04c00",
        "_uuid": "98cd90a86f9377d58b2b827cf0348fe9d303f0ca"
      },
      "cell_type": "markdown",
      "source": "There is no much correlation between NaNs proportion and products with palm oil proportion."
    },
    {
      "metadata": {
        "_cell_guid": "0349733b-a820-d815-485a-263b799a3de2",
        "_uuid": "91fc73df79e2e4ec8983fedd36b0a59ffdd95c93"
      },
      "cell_type": "markdown",
      "source": "### Is there any relationaship between product composition and its name?"
    },
    {
      "metadata": {
        "_cell_guid": "1923869b-6f87-3043-744d-7aefcb4b72d5",
        "_uuid": "4640ea16399451c2814e25c7372f95ba2117ce17"
      },
      "cell_type": "markdown",
      "source": "Let's visualize how often different letters occur in products names that have or not have some components."
    },
    {
      "metadata": {
        "_cell_guid": "e5de3a48-0f2e-a668-9682-ab7c2e061ab1",
        "_uuid": "ef58f9ae9cc380c90976bdd99325b7c1a8b2e54d",
        "trusted": false
      },
      "cell_type": "code",
      "source": "import string",
      "execution_count": null,
      "outputs": []
    },
    {
      "metadata": {
        "_cell_guid": "934b48fa-f173-1412-8190-41755b5547af",
        "_uuid": "326bdf7fb459c5fbcaae476dffcdc7dfc118c10e",
        "trusted": false
      },
      "cell_type": "code",
      "source": "def imshow_letters_dist_by_component(df, component_column):\n    products_with_comp = no_null_objects(df[[component_column, \"generic_name\"]])   \n    numbers = np.zeros((26, 2))\n    for obj in products_with_comp.values:\n        for let in obj[1].lower():\n            if let in string.ascii_letters:\n                numbers[string.ascii_letters.find(let), int(obj[0]>0)] += 1\n    numbers /= numbers.sum(axis=0)[np.newaxis, :]\n    seaborn.heatmap(pd.DataFrame(numbers, list(string.ascii_letters[:26]), \n                                 [\"No \"+component_column.replace(\"_100g\", \"\"), \n                                  \"With \"+component_column.replace(\"_100g\", \"\")]).T, square=True, cbar=False)",
      "execution_count": null,
      "outputs": []
    },
    {
      "metadata": {
        "_cell_guid": "ab957c5a-0efb-826d-0b60-1ec43ec4b946",
        "_uuid": "ce585a8e6a2fc1dc5d1dd39014861681f36bd788",
        "trusted": false
      },
      "cell_type": "code",
      "source": "imshow_letters_dist_by_component(food, \"alcohol_100g\")\n# alcohol name often contains \"i\" and \"r\"",
      "execution_count": null,
      "outputs": []
    },
    {
      "metadata": {
        "_cell_guid": "9a5f1dd0-a34b-3c5e-59c4-d5ea312a4725",
        "_uuid": "6dd6673cd6602feb19f11324ee36efbc4f7850f9",
        "trusted": false
      },
      "cell_type": "code",
      "source": "imshow_letters_dist_by_component(food, \"vitamin_c_100g\")",
      "execution_count": null,
      "outputs": []
    },
    {
      "metadata": {
        "_cell_guid": "c93a43f9-2d92-c8bb-3970-abb32a17a69c",
        "_uuid": "65118dae483a50124ae5e4f022e93672b22e3b24",
        "trusted": false
      },
      "cell_type": "code",
      "source": "imshow_letters_dist_by_component(food, \"calcium_100g\")",
      "execution_count": null,
      "outputs": []
    },
    {
      "metadata": {
        "_cell_guid": "43ae643d-ed23-2f9d-7455-bb89d1a4c63a",
        "_uuid": "e93eb7cb590b03ecb6ca29e9519541bea7c79391",
        "trusted": false
      },
      "cell_type": "code",
      "source": "imshow_letters_dist_by_component(food, \"vitamin_e_100g\")\n# products with \"p\", \"o\", \"r\" and \"t\" almost never have vitamin E",
      "execution_count": null,
      "outputs": []
    },
    {
      "metadata": {
        "_cell_guid": "ffe260e6-18db-1cc3-2a68-33696082c0a6",
        "_uuid": "9ea2010abab0f5382730d825489891608b49095d",
        "trusted": false
      },
      "cell_type": "code",
      "source": "imshow_letters_dist_by_component(food, \"ingredients_that_may_be_from_palm_oil_n\")\n# no difference",
      "execution_count": null,
      "outputs": []
    },
    {
      "metadata": {
        "_cell_guid": "0ca41d19-d808-ecf3-264f-d136b49ed00f",
        "_uuid": "224b1bb68f07c9bcffb3155f4cee297e84dfbb3c"
      },
      "cell_type": "markdown",
      "source": "### Were there any days when many products were added?"
    },
    {
      "metadata": {
        "_cell_guid": "02433650-a9e0-e444-ee8d-68c94e329f9e",
        "_uuid": "d9106fc62c175c53b55b4a51519c6a984950542c",
        "trusted": false
      },
      "cell_type": "code",
      "source": "food[\"datetime\"] = food[\"created_datetime\"].apply(str).apply(lambda x: x[:x.find(\"T\")])",
      "execution_count": null,
      "outputs": []
    },
    {
      "metadata": {
        "_cell_guid": "29e3aecb-d83c-ae98-0295-4f799250ecbf",
        "_uuid": "08f0fcc20999d43fc6ff3faa8145230d3263b6ad",
        "trusted": false
      },
      "cell_type": "code",
      "source": "from datetime import datetime",
      "execution_count": null,
      "outputs": []
    },
    {
      "metadata": {
        "_cell_guid": "dc17828b-4d86-824e-8c82-b30806b679a2",
        "_uuid": "c69ada1dc6dce9561aec64a7aa9487a8f317e2a4",
        "trusted": false
      },
      "cell_type": "code",
      "source": "min_date = datetime.strptime(food[\"datetime\"].min(), \"%Y-%m-%d\")",
      "execution_count": null,
      "outputs": []
    },
    {
      "metadata": {
        "_cell_guid": "f3370d37-e1e8-f8d2-8fab-22b814ac5668",
        "_uuid": "908f3251c7116646108f85dac305d0351027cd5d",
        "trusted": false
      },
      "cell_type": "code",
      "source": "products_num_by_day = np.zeros(2000)\nnum_er = 0.0\nfor obj, country in zip(food[\"datetime\"], food[\"countries_en\"]):\n    try:\n        day = (datetime.strptime(obj, \"%Y-%m-%d\") - min_date).days\n        products_num_by_day[day] += 1\n    except:\n        num_er += 1\nprint(num_er / food.shape[0])",
      "execution_count": null,
      "outputs": []
    },
    {
      "metadata": {
        "_cell_guid": "138a769b-9597-8db1-767f-de6001d8ba33",
        "_uuid": "950f3c752a4dc3da10d8a8792b287d06f112f074",
        "trusted": false
      },
      "cell_type": "code",
      "source": "plt.plot(np.cumsum(products_num_by_day))\nplt.xlabel(\"Number of days from start date\")\nplt.ylabel(\"Total num products each day\")",
      "execution_count": null,
      "outputs": []
    },
    {
      "metadata": {
        "_cell_guid": "7a869014-22ff-b3e0-8f2a-d59ab647d420",
        "_uuid": "278625a7e92e819aac355be440951e630b0dc953"
      },
      "cell_type": "markdown",
      "source": "A database was filled gradually."
    },
    {
      "metadata": {
        "_cell_guid": "7a0dd21d-bf38-3f2e-db0b-12fd0992f0fe",
        "_uuid": "3bc1e876d9fe86b0ba9882e4951d65da16808095",
        "trusted": false
      },
      "cell_type": "code",
      "source": "def apply_func(x):\n    try:\n        return (datetime.strptime(x, \"%Y-%m-%d\") - min_date).days\n    except:\n        return None\nfood[\"exists_days\"] = food[\"datetime\"].apply(apply_func)",
      "execution_count": null,
      "outputs": []
    },
    {
      "metadata": {
        "_cell_guid": "4c5a766a-9306-d21d-66d7-fde9d1484a33",
        "_uuid": "b7c1a87c4fc1c243c7413f10becf494f54ee8e8b",
        "trusted": false
      },
      "cell_type": "code",
      "source": "plt.scatter(food[\"exists_days\"], food[\"additives_n\"])\nplt.xlabel(\"A number of days from start date\")\nplt.ylabel(\"number of additives\")",
      "execution_count": null,
      "outputs": []
    },
    {
      "metadata": {
        "_cell_guid": "6207e4e0-5907-a410-da2e-c0cc05b4fde6",
        "_uuid": "1bb33504a321d0aa435768b03d771dc1db0adfb8"
      },
      "cell_type": "markdown",
      "source": "Over time they use more and more additives..."
    },
    {
      "metadata": {
        "_cell_guid": "63928ae5-7bfe-15c7-1c2a-03e7b63dde39",
        "_uuid": "814c92243f0bd154313e6b8e568cf992bf386120"
      },
      "cell_type": "markdown",
      "source": "### Is there a difference in nutritions in Vegan / not-Vegan products?"
    },
    {
      "metadata": {
        "_cell_guid": "bc68584e-8e3f-8174-f8bc-031c0c26d425",
        "_uuid": "b99b9b522eda9676f5ccee389b673d988cbe7f1f",
        "trusted": false
      },
      "cell_type": "code",
      "source": "from pandas.tools.plotting import scatter_matrix",
      "execution_count": null,
      "outputs": []
    },
    {
      "metadata": {
        "_cell_guid": "3d38350f-b802-084e-4c4f-e8cdbc6c42f3",
        "_uuid": "63de47ce037310e4e97b875279e938e24bb7188c",
        "trusted": false
      },
      "cell_type": "code",
      "source": "food_nutrients = no_null_objects(food[[\"carbohydrates_100g\", \"fat_100g\", \"proteins_100g\", \"labels_en\"]])",
      "execution_count": null,
      "outputs": []
    },
    {
      "metadata": {
        "_cell_guid": "aec5ca9a-17e7-01de-7f36-6db8afb3b46c",
        "_uuid": "f86ef78dfc4599ca98853dd460403d1aea0d7439",
        "trusted": false
      },
      "cell_type": "code",
      "source": "food_nutrients[\"labels_en\"] = food_nutrients[\"labels_en\"].str.contains(\"Vegan\")",
      "execution_count": null,
      "outputs": []
    },
    {
      "metadata": {
        "_cell_guid": "97c326e9-f04f-1534-f495-1b5895b50fd6",
        "_uuid": "58c02c2f76e511f54b61447c011cc40d50624892",
        "trusted": false
      },
      "cell_type": "code",
      "source": "plt.figure(figsize=(20, 20))\nseaborn.pairplot(food_nutrients, hue=\"labels_en\", diag_kind=\"kde\")",
      "execution_count": null,
      "outputs": []
    },
    {
      "metadata": {
        "_cell_guid": "a2f5f810-a1dd-425b-7fdc-fe6a56303d5c",
        "_uuid": "29d262ebc6956c3f45e2024966bf6ffbda87b745"
      },
      "cell_type": "markdown",
      "source": "Kde-diags say that the distributions are quite similar for products with \"Vegan\" label. But in scatters there are some areas where there are no vegan products."
    },
    {
      "metadata": {
        "_cell_guid": "06f371c6-197b-f824-83ec-ed9362bb29e4",
        "_uuid": "e2386d1bc41224ed7a0fb8cc4931736479c012c8",
        "trusted": false
      },
      "cell_type": "code",
      "source": "food_with_labels = no_null_objects(food, [\"labels_en\"])",
      "execution_count": null,
      "outputs": []
    },
    {
      "metadata": {
        "_cell_guid": "55b9a352-32d3-ec1d-8138-5f195ec56bfd",
        "_uuid": "bace6f584ab49a0555d32f71ed98c94b19ad3b1b",
        "trusted": false
      },
      "cell_type": "code",
      "source": "key = \"energy_100g\"\nseaborn.kdeplot(food[key], label=\"All\")\nseaborn.kdeplot(food_with_labels[food_with_labels[\"labels_en\"].str.contains(\"Vegan\")][key], label=\"Vegan\")\nplt.title(\"KDE of energy in 100g\")",
      "execution_count": null,
      "outputs": []
    },
    {
      "metadata": {
        "_cell_guid": "7203416a-3f96-3fea-613b-1a26f818e685",
        "_uuid": "bb52241598449185cec1894a38a7eb24518b13d2"
      },
      "cell_type": "markdown",
      "source": "There is a group of products not covered in Vegan products."
    },
    {
      "metadata": {
        "_cell_guid": "044f3419-cfc5-9c36-9c7f-4f33617e0427",
        "_uuid": "89f80ee11c0e42648cab8988958cdb59b43c4421"
      },
      "cell_type": "markdown",
      "source": "## Summary\n* Australia and th eUK are separated from other countires and produce a lot of products themselves\n* There are less ingredients from palm oil in the US, the UK, China, Brazil products than in France, Switzerland, Belgium, Denmark... (Look strange?)\n* Products with \"p\", \"o\", \"r\" and \"t\" almost never have vitamin E, while alcohol often contain letter \"r\"\n* The number of addiives in products raises over time\n* Vegan products do not much differ from other products"
    },
    {
      "metadata": {
        "_cell_guid": "70263480-b514-039a-882f-4af1b919ce4e",
        "_uuid": "3e779c43e3cc85613ae6ce3c5668dfba62a717ac",
        "trusted": false
      },
      "cell_type": "code",
      "source": "",
      "execution_count": null,
      "outputs": []
    }
  ],
  "metadata": {
    "_change_revision": 0,
    "_is_fork": false,
    "kernelspec": {
      "display_name": "Python 3",
      "language": "python",
      "name": "python3"
    },
    "language_info": {
      "codemirror_mode": {
        "name": "ipython",
        "version": 3
      },
      "file_extension": ".py",
      "mimetype": "text/x-python",
      "name": "python",
      "nbconvert_exporter": "python",
      "pygments_lexer": "ipython3",
      "version": "3.5.2"
    }
  },
  "nbformat": 4,
  "nbformat_minor": 1
}